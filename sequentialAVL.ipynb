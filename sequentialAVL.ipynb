{
 "cells": [
  {
   "cell_type": "markdown",
   "metadata": {},
   "source": [
    "Sequential AVL Tree\n",
    "Reference (Chinese): https://www.cnblogs.com/skywang12345/p/3576969.html\n",
    "TODO List:\n",
    "1. fixHeight after ~~rotate~~/~~insert~~ /remove\n",
    "2. implement remove"
   ]
  },
  {
   "cell_type": "code",
   "execution_count": 10,
   "metadata": {},
   "outputs": [],
   "source": [
    "class Node(object):\n",
    "    def __init__(self, dkey, dval):\n",
    "        self.key = dkey # comparable, assume int\n",
    "        self.val = dval # any type, None means this node is conceptually not present\n",
    "        \n",
    "        self.height = 0\n",
    "        \n",
    "        # Nodes\n",
    "        self.parent = None # None means this node is the root node\n",
    "        self.left = None\n",
    "        self.right = None\n",
    "        \n",
    "\n",
    "def strTree(droot):\n",
    "    \"\"\"\n",
    "    perform a pretty print, stringified\n",
    "    \"\"\"\n",
    "    stree = \"\"\n",
    "    dnode = droot\n",
    "    def DFSNode(ddnode, dstree):\n",
    "        if ddnode==None:\n",
    "            dstree += \"·\"\n",
    "            return dstree\n",
    "        else:\n",
    "            dstree += ddnode.val\n",
    "        if ddnode.height>0:\n",
    "            dstree += \"(\"\n",
    "            dstree = DFSNode(ddnode.left, dstree)\n",
    "            dstree += \",\"\n",
    "            dstree = DFSNode(ddnode.right, dstree)\n",
    "            dstree += \")\"\n",
    "        return dstree\n",
    "    stree = DFSNode(dnode, stree)\n",
    "    return stree\n",
    "\n",
    "def getNode(droot, dkey):\n",
    "    \"\"\"\n",
    "    if dkey presents, return the node,\n",
    "    otherwise, return the future dkey's parent node\n",
    "    \"\"\"\n",
    "    dnode = droot\n",
    "    while True:\n",
    "        if dnode.key==dkey or dnode.height==0:\n",
    "            return dnode\n",
    "        else:\n",
    "            if dkey<dnode.key:\n",
    "                if dnode.left==None:\n",
    "                    return dnode\n",
    "                else:\n",
    "                    dnode = dnode.left\n",
    "            else:\n",
    "                if dnode.right==None:\n",
    "                    return dnode\n",
    "                else:\n",
    "                    dnode = dnode.right\n",
    "\n",
    "def putNode(droot, dkey, dval):\n",
    "    \"\"\"\n",
    "    if dkey presents, perform update,\n",
    "    otherwise perform insertion\n",
    "    \"\"\"\n",
    "    tnode = getNode(droot, dkey)\n",
    "    if tnode.key==dkey:\n",
    "        # update\n",
    "        tnode.val = dval\n",
    "    else:\n",
    "        # insert\n",
    "        if dkey<tnode.key:\n",
    "            tnode.left = Node(dkey, dval)\n",
    "            tnode.left.parent = tnode\n",
    "        else:\n",
    "            tnode.right = Node(dkey, dval)\n",
    "            tnode.right.parent = tnode\n",
    "        # update height: iteratively\n",
    "        hnode = tnode\n",
    "        if hnode.height==0:\n",
    "            while not hnode==None:\n",
    "                hnode.height = max(\n",
    "                    hnode.height, \n",
    "                    hnode.left.height+1 if not hnode.left==None else 0, \n",
    "                    hnode.right.height+1 if not hnode.right==None else 0\n",
    "                )\n",
    "                hnode = hnode.parent\n",
    "\n",
    "def removeNode(droot, dkey):\n",
    "    \"\"\"\n",
    "    \n",
    "    \"\"\"\n",
    "                \n",
    "def balanceCheck(droot):\n",
    "    \"\"\"\n",
    "    should check after every modification\n",
    "    return imbalanced node for rotation,\n",
    "    otherwise return None\n",
    "    \"\"\"\n",
    "    def DFSNode(ddnode):\n",
    "        if ddnode.left.height*ddnode.right.height==0:\n",
    "            if abs(ddnode.left.height-ddnode.right.height)>=2:\n",
    "                # imbalanced node\n",
    "                return ddnode\n",
    "        \n",
    "        lR = None\n",
    "        rR = None\n",
    "        if ddnode.left.left!=None and ddnode.left.right!=None:\n",
    "            lR = DFSNode(ddnode.left)\n",
    "        if ddnode.right.left!=None and ddnode.right.right!=None:\n",
    "            rR = DFSNode(ddnode.right)\n",
    "        if lR!=None:\n",
    "            return lR\n",
    "        if rR!=None:\n",
    "            return rR\n",
    "        return None\n",
    "\n",
    "    return DFSNode(droot)\n",
    "\n",
    "def rotateLL(dnode):\n",
    "    \"\"\"\n",
    "    base type\n",
    "    rotate LL type, return root node of subtree\n",
    "    \"\"\"\n",
    "    k2 = dnode\n",
    "    k1 = dnode.left\n",
    "    y = k1.right\n",
    "    if k2.parent!=None:\n",
    "        p = k2.parent\n",
    "        if p.left.key==k2.key:\n",
    "            p.left = k1\n",
    "        else:\n",
    "            p.right = k1\n",
    "        k1.parent = p\n",
    "    else:\n",
    "        k1.parent = None\n",
    "        \n",
    "    k2.left = y\n",
    "    if y!=None:\n",
    "        y.parent = k2\n",
    "\n",
    "    k1.right = k2\n",
    "    k2.parent = k1\n",
    "    \n",
    "    # fix heights here\n",
    "    k2.height = max(\n",
    "        k2.left.height if k2.left!=None else 0, \n",
    "        k2.right.height if k2.right!=None else 0\n",
    "    )+1\n",
    "    k1.height = max(\n",
    "        k1.left.height if k1.left!=None else 0, \n",
    "        k1.right.height if k1.right!=None else 0\n",
    "    )+1\n",
    "    \n",
    "    return k1\n",
    "\n",
    "def rotateLR(dnode):\n",
    "    \"\"\"\n",
    "    complex type\n",
    "    rotate LR type, return root node of subtree\n",
    "    \"\"\"\n",
    "    k3 = dnode\n",
    "    k1 = k3.left\n",
    "    k2 = k1.right\n",
    "    \n",
    "    # first do an RR on k1\n",
    "    k2 = rotateRR(k1)\n",
    "    # then do an LL on k3\n",
    "    k2 = rotateLL(k3)\n",
    "    # no need to fix height\n",
    "    return k2\n",
    "\n",
    "def rotateRL(dnode):\n",
    "    \"\"\"\n",
    "    complex type\n",
    "    rotate RL type, return root node of subtree\n",
    "    \"\"\"\n",
    "    k1 = dnode\n",
    "    k3 = k1.right\n",
    "    k2 = k3.left\n",
    "    \n",
    "    # first do an LL on k3\n",
    "    k2 = rotateLL(k3)\n",
    "    # then do an RR on k1\n",
    "    k2 = rotateRR(k1)\n",
    "    # no need to fix height\n",
    "    return k2\n",
    "    \n",
    "\n",
    "def rotateRR(dnode):\n",
    "    \"\"\"\n",
    "    base type\n",
    "    rotate RR type, return root node of subtree\n",
    "    \"\"\"\n",
    "    k1 = dnode\n",
    "    k2 = dnode.right\n",
    "    y = k2.left\n",
    "    if k1.parent!=None:\n",
    "        p = k1.parent\n",
    "        if p.left.key==k1.key:\n",
    "            p.left = k2\n",
    "        else:\n",
    "            p.right = k2\n",
    "        k2.parent = p\n",
    "    else:\n",
    "        k2.parent = None\n",
    "    \n",
    "    k1.right = y\n",
    "    if y!=None:\n",
    "        y.parent = k1\n",
    "    \n",
    "    k2.left = k1\n",
    "    k1.parent = k2\n",
    "    \n",
    "    # fix heights here\n",
    "    k1.height = max(\n",
    "        k1.left.height if k1.left!=None else 0, \n",
    "        k1.right.height if k1.right!=None else 0\n",
    "    )+1\n",
    "    k2.height = max(\n",
    "        k2.left.height if k2.left!=None else 0, \n",
    "        k2.right.height if k2.right!=None else 0\n",
    "    )+1\n",
    "    \n",
    "    return k2\n",
    "\n",
    "def rotateCheck(dnode):\n",
    "    \"\"\"\n",
    "    check and determine the type of rotation\n",
    "    \"\"\"\n",
    "    if dnode.left.height==0:\n",
    "        # R*\n",
    "        if dnode.right.left.height==0:\n",
    "            print(\"#RR\")\n",
    "            return rotateRR\n",
    "        else:\n",
    "            print(\"#RL\")\n",
    "            return rotateRL\n",
    "    else:\n",
    "        # L*\n",
    "        if dnode.left.left.height==0:\n",
    "            print(\"#LR\")\n",
    "            return rotateLR\n",
    "        else:\n",
    "            print(\"#LL\")\n",
    "            return rotateLL\n",
    "        \n",
    "def getROOT(dnode):\n",
    "    \"\"\"\n",
    "    trace back to the actual top ROOT node\n",
    "    \"\"\"\n",
    "    ddnode = dnode\n",
    "    while ddnode.parent!=None:\n",
    "        ddnode = ddnode.parent\n",
    "    return ddnode"
   ]
  },
  {
   "cell_type": "code",
   "execution_count": 11,
   "metadata": {},
   "outputs": [
    {
     "name": "stdout",
     "output_type": "stream",
     "text": [
      "8(4(2(1,·),6),12)\n",
      "8\n",
      "4(2(1,·),8(6,12))\n"
     ]
    }
   ],
   "source": [
    "LL_ROOT = Node(8,\"8\")\n",
    "putNode(LL_ROOT, 4, \"4\")\n",
    "putNode(LL_ROOT, 12, \"12\")\n",
    "putNode(LL_ROOT, 2, \"2\")\n",
    "putNode(LL_ROOT, 6, \"6\")\n",
    "putNode(LL_ROOT, 1, \"1\")\n",
    "print(strTree(LL_ROOT))\n",
    "b = balanceCheck(LL_ROOT)\n",
    "print(b.val)\n",
    "subroot = rotateLL(LL_ROOT)\n",
    "LL_ROOT = getROOT(subroot)\n",
    "print(strTree(LL_ROOT))"
   ]
  },
  {
   "cell_type": "code",
   "execution_count": 12,
   "metadata": {},
   "outputs": [
    {
     "name": "stdout",
     "output_type": "stream",
     "text": [
      "8(4,12(10,14(13,·)))\n",
      "8\n",
      "12(8(4,10),14(13,·))\n"
     ]
    }
   ],
   "source": [
    "RR_ROOT = Node(8,\"8\")\n",
    "putNode(RR_ROOT, 4, \"4\")\n",
    "putNode(RR_ROOT, 12, \"12\")\n",
    "putNode(RR_ROOT, 10, \"10\")\n",
    "putNode(RR_ROOT, 14, \"14\")\n",
    "putNode(RR_ROOT, 13, \"13\")\n",
    "print(strTree(RR_ROOT))\n",
    "b = balanceCheck(RR_ROOT)\n",
    "print(b.val)\n",
    "subroot = rotateRR(RR_ROOT)\n",
    "RR_ROOT = getROOT(subroot)\n",
    "print(strTree(RR_ROOT))"
   ]
  },
  {
   "cell_type": "code",
   "execution_count": 13,
   "metadata": {},
   "outputs": [
    {
     "name": "stdout",
     "output_type": "stream",
     "text": [
      "8(4(2,6(5,·)),12)\n",
      "8\n",
      "6(4(2,5),8(·,12))\n"
     ]
    }
   ],
   "source": [
    "LR_ROOT = Node(8,\"8\")\n",
    "putNode(LR_ROOT, 4, \"4\")\n",
    "putNode(LR_ROOT, 12, \"12\")\n",
    "putNode(LR_ROOT, 2, \"2\")\n",
    "putNode(LR_ROOT, 6, \"6\")\n",
    "putNode(LR_ROOT, 5, \"5\")\n",
    "print(strTree(LR_ROOT))\n",
    "b = balanceCheck(LR_ROOT)\n",
    "print(b.val)\n",
    "subroot = rotateLR(LR_ROOT)\n",
    "LR_ROOT = getROOT(subroot)\n",
    "print(strTree(LR_ROOT))"
   ]
  },
  {
   "cell_type": "code",
   "execution_count": 14,
   "metadata": {},
   "outputs": [
    {
     "name": "stdout",
     "output_type": "stream",
     "text": [
      "8(4,12(10(9,·),14))\n",
      "8\n",
      "10(8(4,9),12(·,14))\n"
     ]
    }
   ],
   "source": [
    "RL_ROOT = Node(8,\"8\")\n",
    "putNode(RL_ROOT, 4, \"4\")\n",
    "putNode(RL_ROOT,12, \"12\")\n",
    "putNode(RL_ROOT, 10, \"10\")\n",
    "putNode(RL_ROOT, 14, \"14\")\n",
    "putNode(RL_ROOT, 9, \"9\")\n",
    "print(strTree(RL_ROOT))\n",
    "b = balanceCheck(RL_ROOT)\n",
    "print(b.val)\n",
    "subroot = rotateRL(RL_ROOT)\n",
    "RL_ROOT = getROOT(subroot)\n",
    "print(strTree(RL_ROOT))"
   ]
  },
  {
   "cell_type": "code",
   "execution_count": 15,
   "metadata": {},
   "outputs": [
    {
     "name": "stdout",
     "output_type": "stream",
     "text": [
      "8(4(2(1,·),6),12)\n",
      "#LL\n",
      "4(2(1,·),8(6,12))\n"
     ]
    }
   ],
   "source": [
    "# LL\n",
    "AUTO_ROOT = Node(8,\"8\")\n",
    "putNode(AUTO_ROOT, 4, \"4\")\n",
    "putNode(AUTO_ROOT, 12, \"12\")\n",
    "putNode(AUTO_ROOT, 2, \"2\")\n",
    "putNode(AUTO_ROOT, 6, \"6\")\n",
    "putNode(AUTO_ROOT, 1, \"1\")\n",
    "print(strTree(AUTO_ROOT))\n",
    "subroot = balanceCheck(AUTO_ROOT)\n",
    "subroot = rotateCheck(subroot)(subroot)\n",
    "AUTO_ROOT = getROOT(subroot)\n",
    "print(strTree(AUTO_ROOT))"
   ]
  },
  {
   "cell_type": "code",
   "execution_count": 16,
   "metadata": {},
   "outputs": [
    {
     "name": "stdout",
     "output_type": "stream",
     "text": [
      "8(4,12(10,14(13,·)))\n",
      "#RR\n",
      "12(8(4,10),14(13,·))\n"
     ]
    }
   ],
   "source": [
    "# RR\n",
    "AUTO_ROOT = Node(8,\"8\")\n",
    "putNode(AUTO_ROOT, 4, \"4\")\n",
    "putNode(AUTO_ROOT, 12, \"12\")\n",
    "putNode(AUTO_ROOT, 10, \"10\")\n",
    "putNode(AUTO_ROOT, 14, \"14\")\n",
    "putNode(AUTO_ROOT, 13, \"13\")\n",
    "print(strTree(AUTO_ROOT))\n",
    "subroot = balanceCheck(AUTO_ROOT)\n",
    "subroot = rotateCheck(subroot)(subroot)\n",
    "AUTO_ROOT = getROOT(subroot)\n",
    "print(strTree(AUTO_ROOT))"
   ]
  },
  {
   "cell_type": "code",
   "execution_count": 17,
   "metadata": {},
   "outputs": [
    {
     "name": "stdout",
     "output_type": "stream",
     "text": [
      "8(4(2,6(5,·)),12)\n",
      "#LR\n",
      "6(4(2,5),8(·,12))\n"
     ]
    }
   ],
   "source": [
    "# LR\n",
    "AUTO_ROOT = Node(8,\"8\")\n",
    "putNode(AUTO_ROOT, 4, \"4\")\n",
    "putNode(AUTO_ROOT, 12, \"12\")\n",
    "putNode(AUTO_ROOT, 2, \"2\")\n",
    "putNode(AUTO_ROOT, 6, \"6\")\n",
    "putNode(AUTO_ROOT, 5, \"5\")\n",
    "print(strTree(AUTO_ROOT))\n",
    "subroot = balanceCheck(AUTO_ROOT)\n",
    "subroot = rotateCheck(subroot)(subroot)\n",
    "AUTO_ROOT = getROOT(subroot)\n",
    "print(strTree(AUTO_ROOT))"
   ]
  },
  {
   "cell_type": "code",
   "execution_count": 18,
   "metadata": {},
   "outputs": [
    {
     "name": "stdout",
     "output_type": "stream",
     "text": [
      "8(4,12(10(9,·),14))\n",
      "#RL\n",
      "10(8(4,9),12(·,14))\n"
     ]
    }
   ],
   "source": [
    "# RL\n",
    "AUTO_ROOT = Node(8,\"8\")\n",
    "putNode(AUTO_ROOT, 4, \"4\")\n",
    "putNode(AUTO_ROOT,12, \"12\")\n",
    "putNode(AUTO_ROOT, 10, \"10\")\n",
    "putNode(AUTO_ROOT, 14, \"14\")\n",
    "putNode(AUTO_ROOT, 9, \"9\")\n",
    "print(strTree(AUTO_ROOT))\n",
    "subroot = balanceCheck(AUTO_ROOT)\n",
    "subroot = rotateCheck(subroot)(subroot)\n",
    "AUTO_ROOT = getROOT(subroot)\n",
    "print(strTree(AUTO_ROOT))"
   ]
  },
  {
   "cell_type": "code",
   "execution_count": 19,
   "metadata": {},
   "outputs": [
    {
     "name": "stdout",
     "output_type": "stream",
     "text": [
      "8(7(4(2(1,·),6),7.5),9(8.5,12))\n",
      "#LL\n",
      "8(4(2(1,·),7(6,7.5)),9(8.5,12))\n"
     ]
    }
   ],
   "source": [
    "# deepLL\n",
    "AUTO_ROOT = Node(8,\"8\")\n",
    "putNode(AUTO_ROOT, 7, \"7\")\n",
    "putNode(AUTO_ROOT, 9, \"9\")\n",
    "putNode(AUTO_ROOT, 4, \"4\")\n",
    "putNode(AUTO_ROOT, 7.5, \"7.5\")\n",
    "putNode(AUTO_ROOT, 8.5, \"8.5\")\n",
    "putNode(AUTO_ROOT, 12, \"12\")\n",
    "putNode(AUTO_ROOT, 2, \"2\")\n",
    "putNode(AUTO_ROOT, 6, \"6\")\n",
    "putNode(AUTO_ROOT, 1, \"1\")\n",
    "print(strTree(AUTO_ROOT))\n",
    "subroot = balanceCheck(AUTO_ROOT)\n",
    "subroot = rotateCheck(subroot)(subroot)\n",
    "AUTO_ROOT = getROOT(subroot)\n",
    "print(strTree(AUTO_ROOT))"
   ]
  },
  {
   "cell_type": "code",
   "execution_count": 20,
   "metadata": {},
   "outputs": [
    {
     "name": "stdout",
     "output_type": "stream",
     "text": [
      "8(7(4,7.5),9(8.5,12(10,14(13,·))))\n",
      "#RR\n",
      "8(7(4,7.5),12(9(8.5,10),14(13,·)))\n"
     ]
    }
   ],
   "source": [
    "# deepRR\n",
    "AUTO_ROOT = Node(8,\"8\")\n",
    "putNode(AUTO_ROOT, 7, \"7\")\n",
    "putNode(AUTO_ROOT, 9, \"9\")\n",
    "putNode(AUTO_ROOT, 4, \"4\")\n",
    "putNode(AUTO_ROOT, 7.5, \"7.5\")\n",
    "putNode(AUTO_ROOT, 8.5, \"8.5\")\n",
    "putNode(AUTO_ROOT, 12, \"12\")\n",
    "putNode(AUTO_ROOT, 10, \"10\")\n",
    "putNode(AUTO_ROOT, 14, \"14\")\n",
    "putNode(AUTO_ROOT, 13, \"13\")\n",
    "print(strTree(AUTO_ROOT))\n",
    "subroot = balanceCheck(AUTO_ROOT)\n",
    "subroot = rotateCheck(subroot)(subroot)\n",
    "AUTO_ROOT = getROOT(subroot)\n",
    "print(strTree(AUTO_ROOT))"
   ]
  },
  {
   "cell_type": "code",
   "execution_count": 21,
   "metadata": {},
   "outputs": [
    {
     "name": "stdout",
     "output_type": "stream",
     "text": [
      "8(7(4(2,6(5,·)),7.5),9(8.5,12))\n",
      "#LR\n",
      "8(6(4(2,5),7(·,7.5)),9(8.5,12))\n"
     ]
    }
   ],
   "source": [
    "# deepLR\n",
    "AUTO_ROOT = Node(8,\"8\")\n",
    "putNode(AUTO_ROOT, 7, \"7\")\n",
    "putNode(AUTO_ROOT, 9, \"9\")\n",
    "putNode(AUTO_ROOT, 4, \"4\")\n",
    "putNode(AUTO_ROOT, 7.5, \"7.5\")\n",
    "putNode(AUTO_ROOT, 8.5, \"8.5\")\n",
    "putNode(AUTO_ROOT, 12, \"12\")\n",
    "putNode(AUTO_ROOT, 2, \"2\")\n",
    "putNode(AUTO_ROOT, 6, \"6\")\n",
    "putNode(AUTO_ROOT, 5, \"5\")\n",
    "print(strTree(AUTO_ROOT))\n",
    "subroot = balanceCheck(AUTO_ROOT)\n",
    "subroot = rotateCheck(subroot)(subroot)\n",
    "AUTO_ROOT = getROOT(subroot)\n",
    "print(strTree(AUTO_ROOT))"
   ]
  },
  {
   "cell_type": "code",
   "execution_count": 23,
   "metadata": {},
   "outputs": [
    {
     "name": "stdout",
     "output_type": "stream",
     "text": [
      "8(7(4,7.5),8.5(8.1,12(10(9,·),14)))\n",
      "#RL\n",
      "8(7(4,7.5),10(8.5(8.1,9),12(·,14)))\n"
     ]
    }
   ],
   "source": [
    "# deepRL\n",
    "AUTO_ROOT = Node(8,\"8\")\n",
    "putNode(AUTO_ROOT, 7, \"7\")\n",
    "putNode(AUTO_ROOT, 8.5, \"8.5\")\n",
    "putNode(AUTO_ROOT, 4, \"4\")\n",
    "putNode(AUTO_ROOT, 7.5, \"7.5\")\n",
    "putNode(AUTO_ROOT, 8.1, \"8.1\")\n",
    "putNode(AUTO_ROOT,12, \"12\")\n",
    "putNode(AUTO_ROOT, 10, \"10\")\n",
    "putNode(AUTO_ROOT, 14, \"14\")\n",
    "putNode(AUTO_ROOT, 9, \"9\")\n",
    "print(strTree(AUTO_ROOT))\n",
    "subroot = balanceCheck(AUTO_ROOT)\n",
    "subroot = rotateCheck(subroot)(subroot)\n",
    "AUTO_ROOT = getROOT(subroot)\n",
    "print(strTree(AUTO_ROOT))"
   ]
  }
 ],
 "metadata": {
  "kernelspec": {
   "display_name": "Python 3",
   "language": "python",
   "name": "python3"
  },
  "language_info": {
   "codemirror_mode": {
    "name": "ipython",
    "version": 3
   },
   "file_extension": ".py",
   "mimetype": "text/x-python",
   "name": "python",
   "nbconvert_exporter": "python",
   "pygments_lexer": "ipython3",
   "version": "3.6.3"
  }
 },
 "nbformat": 4,
 "nbformat_minor": 2
}
