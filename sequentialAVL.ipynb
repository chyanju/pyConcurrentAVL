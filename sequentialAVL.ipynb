{
 "cells": [
  {
   "cell_type": "markdown",
   "metadata": {},
   "source": [
    "Sequential AVL Tree\n",
    "\n",
    "Reference (Chinese): https://www.cnblogs.com/skywang12345/p/3576969.html\n",
    "\n",
    "TODO List:\n",
    "1. fixHeight after ~~rotate~~/~~insert~~ /remove\n",
    "2. implement remove"
   ]
  },
  {
   "cell_type": "code",
   "execution_count": 1,
   "metadata": {},
   "outputs": [],
   "source": [
    "from pyAVL import *"
   ]
  },
  {
   "cell_type": "code",
   "execution_count": 2,
   "metadata": {},
   "outputs": [
    {
     "ename": "NameError",
     "evalue": "name 'LL_ROOT' is not defined",
     "output_type": "error",
     "traceback": [
      "\u001b[1;31m---------------------------------------------------------------------------\u001b[0m",
      "\u001b[1;31mNameError\u001b[0m                                 Traceback (most recent call last)",
      "\u001b[1;32m<ipython-input-2-73605c43ce9b>\u001b[0m in \u001b[0;36m<module>\u001b[1;34m()\u001b[0m\n\u001b[1;32m----> 1\u001b[1;33m \u001b[0ma\u001b[0m \u001b[1;33m=\u001b[0m \u001b[0mLL_ROOT\u001b[0m\u001b[1;33m\u001b[0m\u001b[0m\n\u001b[0m\u001b[0;32m      2\u001b[0m \u001b[0ma\u001b[0m \u001b[1;33m=\u001b[0m \u001b[1;32mNone\u001b[0m\u001b[1;33m\u001b[0m\u001b[0m\n\u001b[0;32m      3\u001b[0m \u001b[0mprint\u001b[0m\u001b[1;33m(\u001b[0m\u001b[0mLL_ROOT\u001b[0m\u001b[1;33m)\u001b[0m\u001b[1;33m\u001b[0m\u001b[0m\n",
      "\u001b[1;31mNameError\u001b[0m: name 'LL_ROOT' is not defined"
     ]
    }
   ],
   "source": [
    "a = LL_ROOT\n",
    "a = None\n",
    "print(LL_ROOT)"
   ]
  },
  {
   "cell_type": "code",
   "execution_count": null,
   "metadata": {},
   "outputs": [],
   "source": [
    "LL_ROOT = Node(8,\"8\")\n",
    "putNode(LL_ROOT, 4, \"4\")\n",
    "putNode(LL_ROOT, 12, \"12\")\n",
    "putNode(LL_ROOT, 2, \"2\")\n",
    "putNode(LL_ROOT, 6, \"6\")\n",
    "putNode(LL_ROOT, 1, \"1\")\n",
    "prettyPrintTree(LL_ROOT)\n",
    "\n",
    "print(strTree(LL_ROOT))\n",
    "b = balanceCheck(LL_ROOT)\n",
    "print(b.val)\n",
    "subroot = rotateLL(LL_ROOT)\n",
    "LL_ROOT = getROOT(subroot)\n",
    "print(strTree(LL_ROOT))\n",
    "\n",
    "prettyPrintTree(LL_ROOT)\n"
   ]
  },
  {
   "cell_type": "code",
   "execution_count": null,
   "metadata": {},
   "outputs": [],
   "source": [
    "RR_ROOT = Node(8,\"8\")\n",
    "putNode(RR_ROOT, 4, \"4\")\n",
    "putNode(RR_ROOT, 12, \"12\")\n",
    "putNode(RR_ROOT, 10, \"10\")\n",
    "putNode(RR_ROOT, 14, \"14\")\n",
    "putNode(RR_ROOT, 13, \"13\")\n",
    "print(strTree(RR_ROOT))\n",
    "b = balanceCheck(RR_ROOT)\n",
    "print(b.val)\n",
    "subroot = rotateRR(RR_ROOT)\n",
    "RR_ROOT = getROOT(subroot)\n",
    "print(strTree(RR_ROOT))"
   ]
  },
  {
   "cell_type": "code",
   "execution_count": null,
   "metadata": {},
   "outputs": [],
   "source": [
    "LR_ROOT = Node(8,\"8\")\n",
    "putNode(LR_ROOT, 4, \"4\")\n",
    "putNode(LR_ROOT, 12, \"12\")\n",
    "putNode(LR_ROOT, 2, \"2\")\n",
    "putNode(LR_ROOT, 6, \"6\")\n",
    "putNode(LR_ROOT, 5, \"5\")\n",
    "print(strTree(LR_ROOT))\n",
    "b = balanceCheck(LR_ROOT)\n",
    "print(b.val)\n",
    "subroot = rotateLR(LR_ROOT)\n",
    "LR_ROOT = getROOT(subroot)\n",
    "print(strTree(LR_ROOT))"
   ]
  },
  {
   "cell_type": "code",
   "execution_count": null,
   "metadata": {},
   "outputs": [],
   "source": [
    "RL_ROOT = Node(8,\"8\")\n",
    "putNode(RL_ROOT, 4, \"4\")\n",
    "putNode(RL_ROOT,12, \"12\")\n",
    "putNode(RL_ROOT, 10, \"10\")\n",
    "putNode(RL_ROOT, 14, \"14\")\n",
    "putNode(RL_ROOT, 9, \"9\")\n",
    "print(strTree(RL_ROOT))\n",
    "b = balanceCheck(RL_ROOT)\n",
    "print(b.val)\n",
    "subroot = rotateRL(RL_ROOT)\n",
    "RL_ROOT = getROOT(subroot)\n",
    "print(strTree(RL_ROOT))"
   ]
  },
  {
   "cell_type": "code",
   "execution_count": null,
   "metadata": {},
   "outputs": [],
   "source": [
    "# LL\n",
    "AUTO_ROOT = Node(8,\"8\")\n",
    "putNode(AUTO_ROOT, 4, \"4\")\n",
    "putNode(AUTO_ROOT, 12, \"12\")\n",
    "putNode(AUTO_ROOT, 2, \"2\")\n",
    "putNode(AUTO_ROOT, 6, \"6\")\n",
    "putNode(AUTO_ROOT, 1, \"1\")\n",
    "print(strTree(AUTO_ROOT))\n",
    "subroot = balanceCheck(AUTO_ROOT)\n",
    "subroot = rotateCheck(subroot)(subroot)\n",
    "AUTO_ROOT = getROOT(subroot)\n",
    "print(strTree(AUTO_ROOT))"
   ]
  },
  {
   "cell_type": "code",
   "execution_count": null,
   "metadata": {},
   "outputs": [],
   "source": [
    "# RR\n",
    "AUTO_ROOT = Node(8,\"8\")\n",
    "putNode(AUTO_ROOT, 4, \"4\")\n",
    "putNode(AUTO_ROOT, 12, \"12\")\n",
    "putNode(AUTO_ROOT, 10, \"10\")\n",
    "putNode(AUTO_ROOT, 14, \"14\")\n",
    "putNode(AUTO_ROOT, 13, \"13\")\n",
    "print(strTree(AUTO_ROOT))\n",
    "subroot = balanceCheck(AUTO_ROOT)\n",
    "subroot = rotateCheck(subroot)(subroot)\n",
    "AUTO_ROOT = getROOT(subroot)\n",
    "print(strTree(AUTO_ROOT))"
   ]
  },
  {
   "cell_type": "code",
   "execution_count": null,
   "metadata": {},
   "outputs": [],
   "source": [
    "# LR\n",
    "AUTO_ROOT = Node(8,\"8\")\n",
    "putNode(AUTO_ROOT, 4, \"4\")\n",
    "putNode(AUTO_ROOT, 12, \"12\")\n",
    "putNode(AUTO_ROOT, 2, \"2\")\n",
    "putNode(AUTO_ROOT, 6, \"6\")\n",
    "putNode(AUTO_ROOT, 5, \"5\")\n",
    "print(strTree(AUTO_ROOT))\n",
    "subroot = balanceCheck(AUTO_ROOT)\n",
    "subroot = rotateCheck(subroot)(subroot)\n",
    "AUTO_ROOT = getROOT(subroot)\n",
    "print(strTree(AUTO_ROOT))"
   ]
  },
  {
   "cell_type": "code",
   "execution_count": null,
   "metadata": {},
   "outputs": [],
   "source": [
    "# RL\n",
    "AUTO_ROOT = Node(8,\"8\")\n",
    "putNode(AUTO_ROOT, 4, \"4\")\n",
    "putNode(AUTO_ROOT,12, \"12\")\n",
    "putNode(AUTO_ROOT, 10, \"10\")\n",
    "putNode(AUTO_ROOT, 14, \"14\")\n",
    "putNode(AUTO_ROOT, 9, \"9\")\n",
    "print(strTree(AUTO_ROOT))\n",
    "subroot = balanceCheck(AUTO_ROOT)\n",
    "subroot = rotateCheck(subroot)(subroot)\n",
    "AUTO_ROOT = getROOT(subroot)\n",
    "print(strTree(AUTO_ROOT))"
   ]
  },
  {
   "cell_type": "code",
   "execution_count": null,
   "metadata": {},
   "outputs": [],
   "source": [
    "# deepLL\n",
    "AUTO_ROOT = Node(8,\"8\")\n",
    "putNode(AUTO_ROOT, 7, \"7\")\n",
    "putNode(AUTO_ROOT, 9, \"9\")\n",
    "putNode(AUTO_ROOT, 4, \"4\")\n",
    "putNode(AUTO_ROOT, 7.5, \"7.5\")\n",
    "putNode(AUTO_ROOT, 8.5, \"8.5\")\n",
    "putNode(AUTO_ROOT, 12, \"12\")\n",
    "putNode(AUTO_ROOT, 2, \"2\")\n",
    "putNode(AUTO_ROOT, 6, \"6\")\n",
    "putNode(AUTO_ROOT, 1, \"1\")\n",
    "print(strTree(AUTO_ROOT))\n",
    "subroot = balanceCheck(AUTO_ROOT)\n",
    "subroot = rotateCheck(subroot)(subroot)\n",
    "AUTO_ROOT = getROOT(subroot)\n",
    "print(strTree(AUTO_ROOT))"
   ]
  },
  {
   "cell_type": "code",
   "execution_count": null,
   "metadata": {},
   "outputs": [],
   "source": [
    "# deepRR\n",
    "AUTO_ROOT = Node(8,\"8\")\n",
    "putNode(AUTO_ROOT, 7, \"7\")\n",
    "putNode(AUTO_ROOT, 9, \"9\")\n",
    "putNode(AUTO_ROOT, 4, \"4\")\n",
    "putNode(AUTO_ROOT, 7.5, \"7.5\")\n",
    "putNode(AUTO_ROOT, 8.5, \"8.5\")\n",
    "putNode(AUTO_ROOT, 12, \"12\")\n",
    "putNode(AUTO_ROOT, 10, \"10\")\n",
    "putNode(AUTO_ROOT, 14, \"14\")\n",
    "putNode(AUTO_ROOT, 13, \"13\")\n",
    "print(strTree(AUTO_ROOT))\n",
    "subroot = balanceCheck(AUTO_ROOT)\n",
    "subroot = rotateCheck(subroot)(subroot)\n",
    "AUTO_ROOT = getROOT(subroot)\n",
    "print(strTree(AUTO_ROOT))"
   ]
  },
  {
   "cell_type": "code",
   "execution_count": null,
   "metadata": {},
   "outputs": [],
   "source": [
    "# deepLR\n",
    "AUTO_ROOT = Node(8,\"8\")\n",
    "putNode(AUTO_ROOT, 7, \"7\")\n",
    "putNode(AUTO_ROOT, 9, \"9\")\n",
    "putNode(AUTO_ROOT, 4, \"4\")\n",
    "putNode(AUTO_ROOT, 7.5, \"7.5\")\n",
    "putNode(AUTO_ROOT, 8.5, \"8.5\")\n",
    "putNode(AUTO_ROOT, 12, \"12\")\n",
    "putNode(AUTO_ROOT, 2, \"2\")\n",
    "putNode(AUTO_ROOT, 6, \"6\")\n",
    "putNode(AUTO_ROOT, 5, \"5\")\n",
    "print(strTree(AUTO_ROOT))\n",
    "subroot = balanceCheck(AUTO_ROOT)\n",
    "subroot = rotateCheck(subroot)(subroot)\n",
    "AUTO_ROOT = getROOT(subroot)\n",
    "print(strTree(AUTO_ROOT))"
   ]
  },
  {
   "cell_type": "code",
   "execution_count": null,
   "metadata": {},
   "outputs": [],
   "source": [
    "# deepRL\n",
    "AUTO_ROOT = Node(8,\"8\")\n",
    "putNode(AUTO_ROOT, 7, \"7\")\n",
    "putNode(AUTO_ROOT, 8.5, \"8.5\")\n",
    "putNode(AUTO_ROOT, 4, \"4\")\n",
    "putNode(AUTO_ROOT, 7.5, \"7.5\")\n",
    "putNode(AUTO_ROOT, 8.1, \"8.1\")\n",
    "putNode(AUTO_ROOT,12, \"12\")\n",
    "putNode(AUTO_ROOT, 10, \"10\")\n",
    "putNode(AUTO_ROOT, 14, \"14\")\n",
    "putNode(AUTO_ROOT, 9, \"9\")\n",
    "print(strTree(AUTO_ROOT))\n",
    "prettyPrintTree(AUTO_ROOT)\n",
    "subroot = balanceCheck(AUTO_ROOT)\n",
    "subroot = rotateCheck(subroot)(subroot)\n",
    "AUTO_ROOT = getROOT(subroot)\n",
    "print(strTree(AUTO_ROOT))\n",
    "prettyPrintTree(AUTO_ROOT)\n",
    "\n",
    "# remove\n",
    "res = removeNode(AUTO_ROOT,4)\n",
    "res = removeNode(AUTO_ROOT,7.5)\n",
    "print(strTree(AUTO_ROOT))\n",
    "prettyPrintTree(AUTO_ROOT)\n",
    "\n",
    "# rebalance\n",
    "subroot = balanceCheck(AUTO_ROOT)\n",
    "print(subroot.key)\n",
    "subroot = rotateCheck(subroot)(subroot)\n",
    "AUTO_ROOT = getROOT(subroot)\n",
    "print(strTree(AUTO_ROOT))\n",
    "prettyPrintTree(AUTO_ROOT)"
   ]
  },
  {
   "cell_type": "code",
   "execution_count": null,
   "metadata": {
    "scrolled": true
   },
   "outputs": [],
   "source": [
    "rt = Node(0,\"0\")\n",
    "for i in range(1,100):\n",
    "    putNode(rt, i, str(i))\n",
    "    subroot = balanceCheck(rt)\n",
    "    subroot = rotateCheck(subroot)(subroot)\n",
    "    rt = getROOT(subroot)\n",
    "    \n",
    "\n",
    "    \n",
    "prettyPrintTree(rt)"
   ]
  },
  {
   "cell_type": "code",
   "execution_count": null,
   "metadata": {},
   "outputs": [],
   "source": []
  }
 ],
 "metadata": {
  "kernelspec": {
   "display_name": "Python 3",
   "language": "python",
   "name": "python3"
  },
  "language_info": {
   "codemirror_mode": {
    "name": "ipython",
    "version": 3
   },
   "file_extension": ".py",
   "mimetype": "text/x-python",
   "name": "python",
   "nbconvert_exporter": "python",
   "pygments_lexer": "ipython3",
   "version": "3.6.4"
  }
 },
 "nbformat": 4,
 "nbformat_minor": 2
}
