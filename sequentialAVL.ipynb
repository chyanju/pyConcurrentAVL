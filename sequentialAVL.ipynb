{
 "cells": [
  {
   "cell_type": "markdown",
   "metadata": {},
   "source": [
    "Sequential AVL Tree\n",
    "\n",
    "Reference (Chinese): https://www.cnblogs.com/skywang12345/p/3576969.html\n",
    "\n",
    "TODO List:\n",
    "1. fixHeight after ~~rotate~~/~~insert~~ /remove\n",
    "2. implement remove"
   ]
  },
  {
   "cell_type": "code",
   "execution_count": 1,
   "metadata": {},
   "outputs": [],
   "source": [
    "from pyAVL import *"
   ]
  },
  {
   "cell_type": "code",
   "execution_count": 2,
   "metadata": {},
   "outputs": [
    {
     "data": {
      "image/png": "[encoded data removed]",
      "text/plain": [
       "<IPython.core.display.Image object>"
      ]
     },
     "metadata": {},
     "output_type": "display_data"
    },
    {
     "name": "stdout",
     "output_type": "stream",
     "text": [
      "Tree is empty!\n"
     ]
    }
   ],
   "source": [
    "tree = AVL()\n",
    "tree.put(8)\n",
    "tree.print()\n",
    "tree.remove(8)\n",
    "tree.print()\n",
    "# tree.put(8)\n",
    "# tree.put(4)\n",
    "# tree.print()\n",
    "# tree.put(12)\n",
    "# tree.print()\n",
    "# tree.put(2)\n",
    "# tree.print()\n",
    "# tree.put(6)\n",
    "# tree.print()\n",
    "# tree.put(1)\n",
    "# tree.print()\n",
    "# tree.remove(4)\n",
    "# tree.print()\n",
    "# tree.remove(6)\n",
    "# tree.print()\n"
   ]
  },
  {
   "cell_type": "code",
   "execution_count": 3,
   "metadata": {
    "scrolled": true
   },
   "outputs": [],
   "source": [
    "rt = AVL()\n",
    "for i in range(1,20):\n",
    "    rt.put(i)\n",
    "    \n"
   ]
  }
 ],
 "metadata": {
  "kernelspec": {
   "display_name": "Python 3",
   "language": "python",
   "name": "python3"
  },
  "language_info": {
   "codemirror_mode": {
    "name": "ipython",
    "version": 3
   },
   "file_extension": ".py",
   "mimetype": "text/x-python",
   "name": "python",
   "nbconvert_exporter": "python",
   "pygments_lexer": "ipython3",
   "version": "3.6.4"
  }
 },
 "nbformat": 4,
 "nbformat_minor": 2
}
